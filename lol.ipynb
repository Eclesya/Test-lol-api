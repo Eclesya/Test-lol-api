{
 "cells": [
  {
   "cell_type": "code",
   "execution_count": 2,
   "metadata": {},
   "outputs": [
    {
     "name": "stdout",
     "output_type": "stream",
     "text": [
      "Collecting riotwatcher\n",
      "  Downloading riotwatcher-3.2.3-py3-none-any.whl (58 kB)\n",
      "Requirement already satisfied: requests in c:\\users\\ecles\\anaconda3\\lib\\site-packages (from riotwatcher) (2.22.0)\n",
      "Requirement already satisfied: chardet<3.1.0,>=3.0.2 in c:\\users\\ecles\\anaconda3\\lib\\site-packages (from requests->riotwatcher) (3.0.4)\n",
      "Requirement already satisfied: urllib3!=1.25.0,!=1.25.1,<1.26,>=1.21.1 in c:\\users\\ecles\\anaconda3\\lib\\site-packages (from requests->riotwatcher) (1.25.8)\n",
      "Requirement already satisfied: idna<2.9,>=2.5 in c:\\users\\ecles\\anaconda3\\lib\\site-packages (from requests->riotwatcher) (2.8)\n",
      "Requirement already satisfied: certifi>=2017.4.17 in c:\\users\\ecles\\anaconda3\\lib\\site-packages (from requests->riotwatcher) (2019.11.28)\n",
      "Installing collected packages: riotwatcher\n",
      "Successfully installed riotwatcher-3.2.3\n"
     ]
    }
   ],
   "source": [
    "!pip install riotwatcher"
   ]
  },
  {
   "cell_type": "code",
   "execution_count": 3,
   "metadata": {},
   "outputs": [],
   "source": [
    "from riotwatcher import LolWatcher, ApiError"
   ]
  },
  {
   "cell_type": "code",
   "execution_count": 5,
   "metadata": {},
   "outputs": [],
   "source": [
    "lol_watcher = LolWatcher(api_key = 'RGAPI-45ef8755-23a2-4a5a-a5f0-a5196362e845')\n",
    "region = 'euw1'"
   ]
  },
  {
   "cell_type": "code",
   "execution_count": 6,
   "metadata": {},
   "outputs": [],
   "source": [
    "Swangkawaii = lol_watcher.summoner.by_name(my_region, 'Swangkawaii')\n",
    "Eclésya     = lol_watcher.summoner.by_name(my_region, 'Eclésya')"
   ]
  },
  {
   "cell_type": "code",
   "execution_count": 8,
   "metadata": {},
   "outputs": [
    {
     "data": {
      "text/plain": [
       "{'id': '7A68zXPBh8H27MjnYf71SYAtzVwoOYM3cohH-GQvOjC07CA',\n",
       " 'accountId': '4nuQSaxqkXrY65bwynpjCDnhIvWnKLtMkMr8_44MThZSBQg',\n",
       " 'puuid': 'zRH2_WAjuZnaq1lW9lLwEtfHuC1a2VFIyvTyHXot4UT5XlJupzLv1EEm1YnaNzE4elgWrd5FZNv2Pg',\n",
       " 'name': 'SwangKawaii',\n",
       " 'profileIconId': 4050,\n",
       " 'revisionDate': 1660216459000,\n",
       " 'summonerLevel': 364}"
      ]
     },
     "execution_count": 8,
     "metadata": {},
     "output_type": "execute_result"
    }
   ],
   "source": [
    "Swangkawaii"
   ]
  },
  {
   "cell_type": "code",
   "execution_count": 7,
   "metadata": {},
   "outputs": [
    {
     "data": {
      "text/plain": [
       "{'id': 'u7xoWcPIJ8aYnYeBN8KNAJDUZPU_4i3uD0EMH10QNqdcFtQ',\n",
       " 'accountId': '7PSztk-eM2n99ce00vCnjOMvI-NTy8hLzcTfKcOxA6iHRg',\n",
       " 'puuid': 'CuRL0K5VPiINWRZ0NFRy6uXtKJhjDaFuMYemI9PA-3R82JLpk9b1XFYwHEVc64dj0UOpnbADml_nVQ',\n",
       " 'name': 'Eclésya',\n",
       " 'profileIconId': 5416,\n",
       " 'revisionDate': 1660339760000,\n",
       " 'summonerLevel': 186}"
      ]
     },
     "execution_count": 7,
     "metadata": {},
     "output_type": "execute_result"
    }
   ],
   "source": [
    "Eclésya"
   ]
  },
  {
   "cell_type": "code",
   "execution_count": null,
   "metadata": {},
   "outputs": [],
   "source": []
  }
 ],
 "metadata": {
  "kernelspec": {
   "display_name": "Python 3",
   "language": "python",
   "name": "python3"
  },
  "language_info": {
   "codemirror_mode": {
    "name": "ipython",
    "version": 3
   },
   "file_extension": ".py",
   "mimetype": "text/x-python",
   "name": "python",
   "nbconvert_exporter": "python",
   "pygments_lexer": "ipython3",
   "version": "3.7.6"
  }
 },
 "nbformat": 4,
 "nbformat_minor": 4
}
